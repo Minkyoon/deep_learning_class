{
 "cells": [
  {
   "cell_type": "code",
   "execution_count": 2,
   "id": "ec44e443",
   "metadata": {},
   "outputs": [],
   "source": [
    "import numpy as np\n",
    "\n",
    "def print_val(x):\n",
    "    print\"Type\" , type(x)\n",
    "    print \"Shape:\", x.shape\n",
    "    print \"값:\\n\", x\n",
    "    print(\"\")"
   ]
  },
  {
   "cell_type": "code",
   "execution_count": 20,
   "id": "c0aa1038",
   "metadata": {},
   "outputs": [
    {
     "name": "stdout",
     "output_type": "stream",
     "text": [
      "Type <type 'numpy.ndarray'>\n",
      "Shape: (3,)\n",
      "값:\n",
      "[1 2 3]\n",
      "\n",
      "Type <type 'numpy.ndarray'>\n",
      "Shape: (3,)\n",
      "값:\n",
      "[5 2 3]\n",
      "\n"
     ]
    }
   ],
   "source": [
    "x= np.array([1,2,3])\n",
    "print_val(x)\n",
    "\n",
    "x[0]= 5\n",
    "print_val(x)"
   ]
  },
  {
   "cell_type": "code",
   "execution_count": 11,
   "id": "19986dba",
   "metadata": {},
   "outputs": [
    {
     "name": "stdout",
     "output_type": "stream",
     "text": [
      "Type <type 'numpy.ndarray'>\n",
      "Shape: (2, 3)\n",
      "값:\n",
      "[[1 2 3]\n",
      " [4 5 6]]\n",
      "\n"
     ]
    }
   ],
   "source": [
    "y=np.array([[1,2,3], [4,5,6]])\n",
    "print_val(y)"
   ]
  },
  {
   "cell_type": "code",
   "execution_count": 21,
   "id": "b443a88b",
   "metadata": {},
   "outputs": [
    {
     "name": "stdout",
     "output_type": "stream",
     "text": [
      "Type <type 'numpy.ndarray'>\n",
      "Shape: (2, 2)\n",
      "값:\n",
      "[[0. 0.]\n",
      " [0. 0.]]\n",
      "\n"
     ]
    }
   ],
   "source": [
    "#rank 2 zeros\n",
    "\n",
    "a= np.zeros((2,2))\n",
    "print_val(a)"
   ]
  },
  {
   "cell_type": "code",
   "execution_count": 22,
   "id": "68f42087",
   "metadata": {},
   "outputs": [
    {
     "name": "stdout",
     "output_type": "stream",
     "text": [
      "Type <type 'numpy.ndarray'>\n",
      "Shape: (3, 2)\n",
      "값:\n",
      "[[1. 1.]\n",
      " [1. 1.]\n",
      " [1. 1.]]\n",
      "\n"
     ]
    }
   ],
   "source": [
    "#rank 2 ones\n",
    "\n",
    "a=np.ones((3,2))\n",
    "print_val(a)"
   ]
  },
  {
   "cell_type": "code",
   "execution_count": 23,
   "id": "a322fd64",
   "metadata": {},
   "outputs": [
    {
     "name": "stdout",
     "output_type": "stream",
     "text": [
      "Type <type 'numpy.ndarray'>\n",
      "Shape: (3, 3)\n",
      "값:\n",
      "[[1. 0. 0.]\n",
      " [0. 1. 0.]\n",
      " [0. 0. 1.]]\n",
      "\n"
     ]
    }
   ],
   "source": [
    "#rank 2단위행렬\n",
    "a=np.eye(3,3)\n",
    "print_val(a)"
   ]
  },
  {
   "cell_type": "code",
   "execution_count": 3,
   "id": "0132bdab",
   "metadata": {},
   "outputs": [
    {
     "name": "stdout",
     "output_type": "stream",
     "text": [
      "Type <type 'numpy.ndarray'>\n",
      "Shape: (4, 4)\n",
      "값:\n",
      "[[0.44438116 0.00355829 0.89370181 0.36961146]\n",
      " [0.3870254  0.62057745 0.38661513 0.75793925]\n",
      " [0.52241506 0.23944271 0.89517864 0.29532712]\n",
      " [0.62621402 0.68844134 0.29869522 0.92888244]]\n",
      "\n"
     ]
    }
   ],
   "source": [
    "#랜덤행렬\n",
    "a=np.random.random((4,4))\n",
    "print_val(a)\n"
   ]
  },
  {
   "cell_type": "code",
   "execution_count": 4,
   "id": "278c950a",
   "metadata": {},
   "outputs": [
    {
     "name": "stdout",
     "output_type": "stream",
     "text": [
      "Type <type 'numpy.ndarray'>\n",
      "Shape: (4, 4)\n",
      "값:\n",
      "[[ 0.09020419  0.1562297  -1.09451268 -0.03404238]\n",
      " [-1.06252637  0.57773654 -1.27277796  0.21436304]\n",
      " [ 0.12589742 -0.78963206 -0.49624692 -1.32186978]\n",
      " [-0.36170052  0.32581218 -0.70264795  1.02713351]]\n",
      "\n"
     ]
    }
   ],
   "source": [
    "#랜덤행렬\n",
    "a=np.random.randn(4,4)\n",
    "print_val(a)\n"
   ]
  },
  {
   "cell_type": "code",
   "execution_count": 6,
   "id": "64b5ca57",
   "metadata": {},
   "outputs": [
    {
     "name": "stdout",
     "output_type": "stream",
     "text": [
      "Type <type 'numpy.ndarray'>\n",
      "Shape: (3, 4)\n",
      "값:\n",
      "[[ 1  2  3  4]\n",
      " [ 5  6  7  8]\n",
      " [ 9 10 11 12]]\n",
      "\n"
     ]
    }
   ],
   "source": [
    "#np array indexing\n",
    "a=np.array([[1,2,3,4],[5,6,7,8],[9,10,11,12]])\n",
    "print_val(a)"
   ]
  },
  {
   "cell_type": "code",
   "execution_count": 7,
   "id": "2d28d1f4",
   "metadata": {},
   "outputs": [
    {
     "name": "stdout",
     "output_type": "stream",
     "text": [
      "Type <type 'numpy.ndarray'>\n",
      "Shape: (2, 2)\n",
      "값:\n",
      "[[2 3]\n",
      " [6 7]]\n",
      "\n"
     ]
    }
   ],
   "source": [
    "b= a[:2, 1:3]\n",
    "print_val(b)"
   ]
  },
  {
   "cell_type": "code",
   "execution_count": 8,
   "id": "cf714382",
   "metadata": {
    "scrolled": true
   },
   "outputs": [
    {
     "name": "stdout",
     "output_type": "stream",
     "text": [
      "Type <type 'numpy.ndarray'>\n",
      "Shape: (4,)\n",
      "값:\n",
      "[5 6 7 8]\n",
      "\n"
     ]
    }
   ],
   "source": [
    "#행렬의 n번째 행얻기\n",
    "row1= a[1, :]\n",
    "print_val(row1)"
   ]
  },
  {
   "cell_type": "code",
   "execution_count": 9,
   "id": "d660bfee",
   "metadata": {},
   "outputs": [
    {
     "name": "stdout",
     "output_type": "stream",
     "text": [
      "Type <type 'numpy.ndarray'>\n",
      "Shape: (2, 2)\n",
      "값:\n",
      "[[ 6.  8.]\n",
      " [10. 12.]]\n",
      "\n",
      "Type <type 'numpy.ndarray'>\n",
      "Shape: (2, 2)\n",
      "값:\n",
      "[[ 6.  8.]\n",
      " [10. 12.]]\n",
      "\n"
     ]
    }
   ],
   "source": [
    "#행렬의 원소별 연산\n",
    "m1= np.array([[1,2], [3,4]], dtype=np.float64)\n",
    "m2= np.array([[5,6], [7,8]], dtype=np.float64)\n",
    "\n",
    "print_val(m1+m2)\n",
    "print_val(np.add(m1,m2))\n",
    "\n"
   ]
  },
  {
   "cell_type": "code",
   "execution_count": 10,
   "id": "5fad99aa",
   "metadata": {},
   "outputs": [
    {
     "name": "stdout",
     "output_type": "stream",
     "text": [
      "Type <type 'numpy.ndarray'>\n",
      "Shape: (2, 2)\n",
      "값:\n",
      "[[-4. -4.]\n",
      " [-4. -4.]]\n",
      "\n",
      "Type <type 'numpy.ndarray'>\n",
      "Shape: (2, 2)\n",
      "값:\n",
      "[[-4. -4.]\n",
      " [-4. -4.]]\n",
      "\n"
     ]
    }
   ],
   "source": [
    "#elementwise difference\n",
    "print_val(m1-m2)\n",
    "print_val(np.subtract(m1,m2))"
   ]
  },
  {
   "cell_type": "code",
   "execution_count": 15,
   "id": "3d1d0528",
   "metadata": {},
   "outputs": [
    {
     "name": "stdout",
     "output_type": "stream",
     "text": [
      "Type <type 'numpy.ndarray'>\n",
      "Shape: (2, 2)\n",
      "값:\n",
      "[[ 5. 12.]\n",
      " [21. 32.]]\n",
      "\n",
      "Type <type 'numpy.ndarray'>\n",
      "Shape: (2, 2)\n",
      "값:\n",
      "[[ 5. 12.]\n",
      " [21. 32.]]\n",
      "\n"
     ]
    }
   ],
   "source": [
    "# elementwise product\n",
    "print_val(m1*m2)\n",
    "print_val(np.multiply(m1,m2))"
   ]
  },
  {
   "cell_type": "code",
   "execution_count": 17,
   "id": "e4ea1ac7",
   "metadata": {},
   "outputs": [
    {
     "name": "stdout",
     "output_type": "stream",
     "text": [
      "Type <type 'numpy.ndarray'>\n",
      "Shape: (2, 2)\n",
      "값:\n",
      "[[0.2        0.33333333]\n",
      " [0.42857143 0.5       ]]\n",
      "\n",
      "Type <type 'numpy.ndarray'>\n",
      "Shape: (2, 2)\n",
      "값:\n",
      "[[0.2        0.33333333]\n",
      " [0.42857143 0.5       ]]\n",
      "\n"
     ]
    }
   ],
   "source": [
    "#elementwise division\n",
    "print_val(m1/m2)\n",
    "print_val(np.divide(m1, m2))"
   ]
  },
  {
   "cell_type": "code",
   "execution_count": 18,
   "id": "31204e41",
   "metadata": {},
   "outputs": [
    {
     "name": "stdout",
     "output_type": "stream",
     "text": [
      "Type <type 'numpy.ndarray'>\n",
      "Shape: (2, 2)\n",
      "값:\n",
      "[[1.         1.41421356]\n",
      " [1.73205081 2.        ]]\n",
      "\n"
     ]
    }
   ],
   "source": [
    "#elementwise square root\n",
    "print_val(np.sqrt(m1))"
   ]
  },
  {
   "cell_type": "code",
   "execution_count": 21,
   "id": "935daec6",
   "metadata": {
    "scrolled": true
   },
   "outputs": [
    {
     "name": "stdout",
     "output_type": "stream",
     "text": [
      "Type <type 'numpy.ndarray'>\n",
      "Shape: (2, 2)\n",
      "값:\n",
      "[[1 2]\n",
      " [3 4]]\n",
      "\n",
      "Type <type 'numpy.ndarray'>\n",
      "Shape: (2, 2)\n",
      "값:\n",
      "[[5 6]\n",
      " [7 8]]\n",
      "\n",
      "Type <type 'numpy.ndarray'>\n",
      "Shape: (2,)\n",
      "값:\n",
      "[ 9 10]\n",
      "\n",
      "Type <type 'numpy.ndarray'>\n",
      "Shape: (2,)\n",
      "값:\n",
      "[11 12]\n",
      "\n"
     ]
    }
   ],
   "source": [
    "#행렬연산\n",
    "m1= np.array([[1,2], [3,4]]) #(2,2)\n",
    "m2= np.array([[5,6], [7,8]]) #(2,2)\n",
    "v1= np.array([9,10])\n",
    "v2= np.array([11,12])\n",
    "\n",
    "print_val(m1)\n",
    "print_val(m2)\n",
    "print_val(v1)\n",
    "print_val(v2)"
   ]
  },
  {
   "cell_type": "code",
   "execution_count": 24,
   "id": "a139492d",
   "metadata": {},
   "outputs": [
    {
     "name": "stdout",
     "output_type": "stream",
     "text": [
      "Type <type 'numpy.int64'>\n",
      "Shape: ()\n",
      "값:\n",
      "219\n",
      "\n",
      "Type <type 'numpy.int64'>\n",
      "Shape: ()\n",
      "값:\n",
      "219\n",
      "\n"
     ]
    }
   ],
   "source": [
    "#벡터-벡터 연산\n",
    "print_val(v1.dot(v2))\n",
    "print_val(np.dot(v1,v2))"
   ]
  },
  {
   "cell_type": "code",
   "execution_count": 26,
   "id": "6c2922d5",
   "metadata": {},
   "outputs": [
    {
     "name": "stdout",
     "output_type": "stream",
     "text": [
      "Type <type 'numpy.ndarray'>\n",
      "Shape: (2,)\n",
      "값:\n",
      "[29 67]\n",
      "\n",
      "Type <type 'numpy.ndarray'>\n",
      "Shape: (2,)\n",
      "값:\n",
      "[29 67]\n",
      "\n"
     ]
    }
   ],
   "source": [
    "#백터-행렬 연산\n",
    "print_val(m1.dot(v1))\n",
    "print_val(np.dot(m1, v1))\n"
   ]
  },
  {
   "cell_type": "code",
   "execution_count": 27,
   "id": "d8b6ed6d",
   "metadata": {},
   "outputs": [
    {
     "name": "stdout",
     "output_type": "stream",
     "text": [
      "Type <type 'numpy.ndarray'>\n",
      "Shape: (2, 2)\n",
      "값:\n",
      "[[19 22]\n",
      " [43 50]]\n",
      "\n",
      "Type <type 'numpy.ndarray'>\n",
      "Shape: (2, 2)\n",
      "값:\n",
      "[[19 22]\n",
      " [43 50]]\n",
      "\n"
     ]
    }
   ],
   "source": [
    "#행렬-행렬 연산\n",
    "print_val(m1.dot(m2))\n",
    "print_val(np.dot(m1, m2))"
   ]
  },
  {
   "cell_type": "code",
   "execution_count": 30,
   "id": "0cd93dca",
   "metadata": {},
   "outputs": [
    {
     "name": "stdout",
     "output_type": "stream",
     "text": [
      "Type <type 'numpy.ndarray'>\n",
      "Shape: (2, 2)\n",
      "값:\n",
      "[[1 2]\n",
      " [3 4]]\n",
      "\n",
      "Type <type 'numpy.ndarray'>\n",
      "Shape: (2, 2)\n",
      "값:\n",
      "[[1 3]\n",
      " [2 4]]\n",
      "\n"
     ]
    }
   ],
   "source": [
    "#전치 행렬\n",
    "print_val(m1)\n",
    "print_val(m1.T)\n"
   ]
  },
  {
   "cell_type": "code",
   "execution_count": 33,
   "id": "d3fa64a1",
   "metadata": {},
   "outputs": [
    {
     "name": "stdout",
     "output_type": "stream",
     "text": [
      "Type <type 'numpy.int64'>\n",
      "Shape: ()\n",
      "값:\n",
      "10\n",
      "\n",
      "Type <type 'numpy.ndarray'>\n",
      "Shape: (2,)\n",
      "값:\n",
      "[4 6]\n",
      "\n",
      "Type <type 'numpy.ndarray'>\n",
      "Shape: (2,)\n",
      "값:\n",
      "[3 7]\n",
      "\n",
      "Type <type 'numpy.ndarray'>\n",
      "Shape: (2, 2)\n",
      "값:\n",
      "[[1 2]\n",
      " [3 4]]\n",
      "\n"
     ]
    }
   ],
   "source": [
    "print_val(np.sum(m1))\n",
    "print_val(np.sum(m1, axis=0))\n",
    "print_val(np.sum(m1, axis=1))\n",
    "print_val(m1)"
   ]
  },
  {
   "cell_type": "code",
   "execution_count": 36,
   "id": "13f349e5",
   "metadata": {},
   "outputs": [
    {
     "name": "stdout",
     "output_type": "stream",
     "text": [
      "[[1 2 3]\n",
      " [4 5 6]]\n",
      "(2, 3)\n"
     ]
    }
   ],
   "source": [
    "m1=np.array([[1,2,3],[4,5,6]])\n",
    "print m1\n",
    "print m1.shape"
   ]
  },
  {
   "cell_type": "code",
   "execution_count": 37,
   "id": "0d99814d",
   "metadata": {},
   "outputs": [
    {
     "name": "stdout",
     "output_type": "stream",
     "text": [
      "21\n",
      "[5 7 9]\n",
      "[ 6 15]\n"
     ]
    }
   ],
   "source": [
    "print np.sum(m1)\n",
    "print np.sum(m1, axis=0)\n",
    "print np.sum(m1,axis=1)"
   ]
  },
  {
   "cell_type": "code",
   "execution_count": 38,
   "id": "c2584344",
   "metadata": {},
   "outputs": [
    {
     "name": "stdout",
     "output_type": "stream",
     "text": [
      "Type <type 'numpy.ndarray'>\n",
      "Shape: (4, 3)\n",
      "값:\n",
      "[[ 1  2  3]\n",
      " [ 4  5  6]\n",
      " [ 7  8  9]\n",
      " [10 11 12]]\n",
      "\n",
      "Type <type 'numpy.ndarray'>\n",
      "Shape: (4, 3)\n",
      "값:\n",
      "[[0 0 0]\n",
      " [0 0 0]\n",
      " [0 0 0]\n",
      " [0 0 0]]\n",
      "\n"
     ]
    }
   ],
   "source": [
    "#zeros-like\n",
    "m1=np.array([[1,2,3],[4,5,6],[7,8,9],[10,11,12]])\n",
    "m2=np.zeros_like(m1)\n",
    "print_val(m1)\n",
    "print_val(m2);"
   ]
  },
  {
   "cell_type": "code",
   "execution_count": 42,
   "id": "3c4bf0b4",
   "metadata": {},
   "outputs": [
    {
     "data": {
      "text/plain": [
       "[<matplotlib.lines.Line2D at 0x7f62269ea590>]"
      ]
     },
     "execution_count": 42,
     "metadata": {},
     "output_type": "execute_result"
    },
    {
     "data": {
      "image/png": "[encoded data removed]",
      "text/plain": [
       "<Figure size 432x288 with 1 Axes>"
      ]
     },
     "metadata": {
      "needs_background": "light"
     },
     "output_type": "display_data"
    }
   ],
   "source": [
    "#matplot library\n",
    "import matplotlib.pyplot as plt\n",
    "%matplotlib inline\n",
    "\n",
    "#sin 커브\n",
    "x=np.arange(0,10,0.1)\n",
    "y=np.sin(x)\n",
    "plt.plot(x,y)"
   ]
  },
  {
   "cell_type": "code",
   "execution_count": 44,
   "id": "63fac410",
   "metadata": {},
   "outputs": [
    {
     "data": {
      "image/png": "[encoded data removed]",
      "text/plain": [
       "<Figure size 432x288 with 1 Axes>"
      ]
     },
     "metadata": {
      "needs_background": "light"
     },
     "output_type": "display_data"
    }
   ],
   "source": [
    "y_sin = np.sin(x)\n",
    "y_cos = np.cos(x)\n",
    "\n",
    "plt.plot(x, y_sin)\n",
    "plt.plot(x, y_cos)\n",
    "plt.xlabel(\"x axis label\")\n",
    "plt.ylabel(\"y axis label\")\n",
    "plt.title('sin and cos')\n",
    "plt.legend('sin', 'cos')\n",
    "\n",
    "plt.show()"
   ]
  },
  {
   "cell_type": "code",
   "execution_count": 45,
   "id": "fadad4bd",
   "metadata": {},
   "outputs": [
    {
     "data": {
      "image/png": "[encoded data removed]",
      "text/plain": [
       "<Figure size 432x288 with 2 Axes>"
      ]
     },
     "metadata": {
      "needs_background": "light"
     },
     "output_type": "display_data"
    }
   ],
   "source": [
    "#subplot\n",
    "plt.subplot(2, 1, 1)\n",
    "plt.plot(x, y_sin)\n",
    "plt.title('sin')\n",
    "\n",
    "plt.subplot(2, 1, 2)\n",
    "plt.plot(x, y_cos)\n",
    "plt.title('cos')\n",
    "\n",
    "plt.show()"
   ]
  },
  {
   "cell_type": "code",
   "execution_count": null,
   "id": "9143bfa4",
   "metadata": {},
   "outputs": [],
   "source": []
  },
  {
   "cell_type": "code",
   "execution_count": null,
   "id": "d862d6fb",
   "metadata": {},
   "outputs": [],
   "source": []
  }
 ],
 "metadata": {
  "kernelspec": {
   "display_name": "conda_pytorch_p27",
   "language": "python",
   "name": "conda_pytorch_p27"
  },
  "language_info": {
   "codemirror_mode": {
    "name": "ipython",
    "version": 2
   },
   "file_extension": ".py",
   "mimetype": "text/x-python",
   "name": "python",
   "nbconvert_exporter": "python",
   "pygments_lexer": "ipython2",
   "version": "2.7.16"
  }
 },
 "nbformat": 4,
 "nbformat_minor": 5
}
