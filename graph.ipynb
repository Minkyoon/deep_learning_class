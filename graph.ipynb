{
 "cells": [
  {
   "cell_type": "code",
   "execution_count": null,
   "metadata": {},
   "outputs": [],
   "source": [
    "import plotly.graph_objects as go\n",
    "from plotly.subplots import make_subplots\n",
    "from pandas_datareader import data  \n",
    "from datetime import datetime\n",
    "import pandas as pd\n",
    "\n",
    "\n",
    "# 데이터를 가져올 날짜 설정\n",
    "start_date = datetime(2013,1,3)\n",
    "end_date = datetime(2021,1,22)\n",
    "\n",
    "# 야후에서 삼성전자 데이터 가져오기\n",
    "samsung = data.get_data_yahoo(\"005930.ks\", start_date, end_date)"
   ]
  },
  {
   "cell_type": "markdown",
   "metadata": {},
   "source": []
  }
 ],
 "metadata": {
  "language_info": {
   "name": "python"
  },
  "orig_nbformat": 4
 },
 "nbformat": 4,
 "nbformat_minor": 2
}
