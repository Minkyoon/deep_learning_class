{
 "cells": [
  {
   "cell_type": "code",
   "execution_count": 1,
   "id": "e6b1bcd3",
   "metadata": {},
   "outputs": [],
   "source": [
    "import numpy as np\n",
    "import pandas as pd"
   ]
  },
  {
   "cell_type": "markdown",
   "id": "b2767e46",
   "metadata": {},
   "source": [
    "# 데이터 적재"
   ]
  },
  {
   "cell_type": "code",
   "execution_count": 2,
   "id": "0569619f",
   "metadata": {},
   "outputs": [],
   "source": [
    "from sklearn.datasets import load_iris\n",
    "iris_dataset = load_iris()"
   ]
  },
  {
   "cell_type": "code",
   "execution_count": 3,
   "id": "32e60132",
   "metadata": {},
   "outputs": [
    {
     "name": "stdout",
     "output_type": "stream",
     "text": [
      "iris_dataset의 키: \n",
      "['target', 'DESCR', 'target_names', 'feature_names', 'data', 'filename']\n"
     ]
    }
   ],
   "source": [
    "print \"iris_dataset의 키: \\n\", iris_dataset.keys()"
   ]
  },
  {
   "cell_type": "code",
   "execution_count": 5,
   "id": "6fd1c706",
   "metadata": {},
   "outputs": [
    {
     "name": "stdout",
     "output_type": "stream",
     "text": [
      ".. _iris_dataset:\n",
      "\n",
      "Iris plants dataset\n",
      "--------------------\n",
      "\n",
      "**Data Set Characteristics:**\n",
      "\n",
      "    :Number of Instances: 150 (50 in each of three classes)\n",
      "    :Number of Attributes: 4 numeric, pre\n",
      "...\n"
     ]
    }
   ],
   "source": [
    "print iris_dataset['DESCR'][:193]+\"\\n...\""
   ]
  },
  {
   "cell_type": "code",
   "execution_count": 6,
   "id": "0cc1faaa",
   "metadata": {},
   "outputs": [
    {
     "name": "stdout",
     "output_type": "stream",
     "text": [
      "타깃의 이름: ['setosa' 'versicolor' 'virginica']\n"
     ]
    }
   ],
   "source": [
    "print'타깃의 이름:', iris_dataset['target_names']"
   ]
  },
  {
   "cell_type": "code",
   "execution_count": 7,
   "id": "4aec5e88",
   "metadata": {},
   "outputs": [
    {
     "name": "stdout",
     "output_type": "stream",
     "text": [
      "특성의 이름: \n",
      ": ['sepal length (cm)', 'sepal width (cm)', 'petal length (cm)', 'petal width (cm)']\n"
     ]
    }
   ],
   "source": [
    "print'특성의 이름: \\n:', iris_dataset['feature_names']"
   ]
  },
  {
   "cell_type": "code",
   "execution_count": 8,
   "id": "026b3991",
   "metadata": {},
   "outputs": [
    {
     "name": "stdout",
     "output_type": "stream",
     "text": [
      "data의 타입: <type 'numpy.ndarray'>\n"
     ]
    }
   ],
   "source": [
    "print'data의 타입:', type(iris_dataset['data'])"
   ]
  },
  {
   "cell_type": "code",
   "execution_count": 9,
   "id": "71ddc82e",
   "metadata": {},
   "outputs": [
    {
     "name": "stdout",
     "output_type": "stream",
     "text": [
      "data의 크기: (150, 4)\n"
     ]
    }
   ],
   "source": [
    "print'data의 크기:', iris_dataset['data'].shape"
   ]
  },
  {
   "cell_type": "code",
   "execution_count": 11,
   "id": "cd626352",
   "metadata": {},
   "outputs": [
    {
     "name": "stdout",
     "output_type": "stream",
     "text": [
      "data의 처음 다섯 행:\n",
      ": [[5.1 3.5 1.4 0.2]\n",
      " [4.9 3.  1.4 0.2]\n",
      " [4.7 3.2 1.3 0.2]\n",
      " [4.6 3.1 1.5 0.2]\n",
      " [5.  3.6 1.4 0.2]]\n"
     ]
    }
   ],
   "source": [
    "print 'data의 처음 다섯 행:\\n:', iris_dataset['data'][:5]"
   ]
  },
  {
   "cell_type": "code",
   "execution_count": 12,
   "id": "9a7a70cc",
   "metadata": {},
   "outputs": [
    {
     "name": "stdout",
     "output_type": "stream",
     "text": [
      "target의 타입: <type 'numpy.ndarray'>\n"
     ]
    }
   ],
   "source": [
    "print'target의 타입:', type(iris_dataset['target'])"
   ]
  },
  {
   "cell_type": "code",
   "execution_count": 13,
   "id": "81b7732b",
   "metadata": {},
   "outputs": [
    {
     "name": "stdout",
     "output_type": "stream",
     "text": [
      "target의 크기: (150,)\n"
     ]
    }
   ],
   "source": [
    "print'target의 크기:', iris_dataset['target'].shape"
   ]
  },
  {
   "cell_type": "code",
   "execution_count": 14,
   "id": "08934dff",
   "metadata": {},
   "outputs": [
    {
     "name": "stdout",
     "output_type": "stream",
     "text": [
      "타깃:\n",
      ": [0 0 0 0 0 0 0 0 0 0 0 0 0 0 0 0 0 0 0 0 0 0 0 0 0 0 0 0 0 0 0 0 0 0 0 0 0\n",
      " 0 0 0 0 0 0 0 0 0 0 0 0 0 1 1 1 1 1 1 1 1 1 1 1 1 1 1 1 1 1 1 1 1 1 1 1 1\n",
      " 1 1 1 1 1 1 1 1 1 1 1 1 1 1 1 1 1 1 1 1 1 1 1 1 1 1 2 2 2 2 2 2 2 2 2 2 2\n",
      " 2 2 2 2 2 2 2 2 2 2 2 2 2 2 2 2 2 2 2 2 2 2 2 2 2 2 2 2 2 2 2 2 2 2 2 2 2\n",
      " 2 2]\n"
     ]
    }
   ],
   "source": [
    "print'타깃:\\n:', iris_dataset['target']"
   ]
  },
  {
   "cell_type": "markdown",
   "id": "ff7f632a",
   "metadata": {},
   "source": [
    "# 성과측정:훈련 데이터(Train data)와 테스트 데이터(Test data)"
   ]
  },
  {
   "cell_type": "code",
   "execution_count": 18,
   "id": "674fe111",
   "metadata": {},
   "outputs": [],
   "source": [
    "from sklearn.model_selection import train_test_split\n",
    "X_train, X_test, y_train, y_test =train_test_split(iris_dataset['data'], iris_dataset['target'],random_state=0)"
   ]
  },
  {
   "cell_type": "code",
   "execution_count": 20,
   "id": "ebf15be7",
   "metadata": {},
   "outputs": [
    {
     "name": "stdout",
     "output_type": "stream",
     "text": [
      "X_train 크기: (112, 4)\n",
      "y_train 크기: (112,)\n"
     ]
    }
   ],
   "source": [
    "print 'X_train 크기:', X_train.shape\n",
    "print 'y_train 크기:', y_train.shape"
   ]
  },
  {
   "cell_type": "code",
   "execution_count": 21,
   "id": "73e0253d",
   "metadata": {},
   "outputs": [
    {
     "name": "stdout",
     "output_type": "stream",
     "text": [
      "X_test 키기: (38, 4)\n",
      "y_test 키기: (38,)\n"
     ]
    }
   ],
   "source": [
    "print 'X_test 키기:', X_test.shape\n",
    "print 'y_test 키기:', y_test.shape"
   ]
  },
  {
   "cell_type": "markdown",
   "id": "cf128ab9",
   "metadata": {},
   "source": [
    "# 가장 먼저 할 일:데이터 살펴보기(에러)"
   ]
  },
  {
   "cell_type": "code",
   "execution_count": 26,
   "id": "40973a1c",
   "metadata": {},
   "outputs": [
    {
     "data": {
      "text/plain": [
       "array([[<matplotlib.axes._subplots.AxesSubplot object at 0x7f2145869690>,\n",
       "        <matplotlib.axes._subplots.AxesSubplot object at 0x7f21452dd4d0>,\n",
       "        <matplotlib.axes._subplots.AxesSubplot object at 0x7f2145319690>,\n",
       "        <matplotlib.axes._subplots.AxesSubplot object at 0x7f21452d0850>],\n",
       "       [<matplotlib.axes._subplots.AxesSubplot object at 0x7f2145289a10>,\n",
       "        <matplotlib.axes._subplots.AxesSubplot object at 0x7f2145240bd0>,\n",
       "        <matplotlib.axes._subplots.AxesSubplot object at 0x7f21451f7d90>,\n",
       "        <matplotlib.axes._subplots.AxesSubplot object at 0x7f21451b0f50>],\n",
       "       [<matplotlib.axes._subplots.AxesSubplot object at 0x7f2145174150>,\n",
       "        <matplotlib.axes._subplots.AxesSubplot object at 0x7f214512a310>,\n",
       "        <matplotlib.axes._subplots.AxesSubplot object at 0x7f21450e44d0>,\n",
       "        <matplotlib.axes._subplots.AxesSubplot object at 0x7f214509c690>],\n",
       "       [<matplotlib.axes._subplots.AxesSubplot object at 0x7f21450d4850>,\n",
       "        <matplotlib.axes._subplots.AxesSubplot object at 0x7f214508ba10>,\n",
       "        <matplotlib.axes._subplots.AxesSubplot object at 0x7f2145044bd0>,\n",
       "        <matplotlib.axes._subplots.AxesSubplot object at 0x7f2144ffed90>]],\n",
       "      dtype=object)"
      ]
     },
     "execution_count": 26,
     "metadata": {},
     "output_type": "execute_result"
    }
   ],
   "source": [
    "iris_dataframe= pd.DataFrame(X_train, columns=iris_dataset.feature_names)\n",
    "pd.plotting.scatter_matrix(iris_dataframe, c=y_train, figsize=(15,15), marker='o',\n",
    "                           hist_kwds={'bins':20}, s=60, alpha=8)"
   ]
  },
  {
   "cell_type": "markdown",
   "id": "d9f5d1ae",
   "metadata": {},
   "source": [
    "# 첫 번째 머신러닝 모델:k-최근접 이웃 알고리즘"
   ]
  },
  {
   "cell_type": "code",
   "execution_count": 28,
   "id": "aecd6daa",
   "metadata": {},
   "outputs": [],
   "source": [
    "from sklearn.neighbors import KNeighborsClassifier\n",
    "knn = KNeighborsClassifier(n_neighbors=1)"
   ]
  },
  {
   "cell_type": "code",
   "execution_count": 29,
   "id": "0c01da1c",
   "metadata": {},
   "outputs": [
    {
     "data": {
      "text/plain": [
       "KNeighborsClassifier(algorithm='auto', leaf_size=30, metric='minkowski',\n",
       "           metric_params=None, n_jobs=None, n_neighbors=1, p=2,\n",
       "           weights='uniform')"
      ]
     },
     "execution_count": 29,
     "metadata": {},
     "output_type": "execute_result"
    }
   ],
   "source": [
    "knn.fit(X_train, y_train)"
   ]
  },
  {
   "cell_type": "markdown",
   "id": "c964efc5",
   "metadata": {},
   "source": [
    "# 예측하기"
   ]
  },
  {
   "cell_type": "code",
   "execution_count": 31,
   "id": "dd8de733",
   "metadata": {},
   "outputs": [
    {
     "name": "stdout",
     "output_type": "stream",
     "text": [
      "X_new.shape: (1, 4)\n"
     ]
    }
   ],
   "source": [
    "X_new=np.array([[5, 2.9, 1, 0.2]])\n",
    "print 'X_new.shape:', X_new.shape"
   ]
  },
  {
   "cell_type": "code",
   "execution_count": 32,
   "id": "47f41a0a",
   "metadata": {},
   "outputs": [
    {
     "name": "stdout",
     "output_type": "stream",
     "text": [
      "예측: [0]\n",
      "예측한 타깃의 이름: ['setosa']\n"
     ]
    }
   ],
   "source": [
    "prediction = knn.predict(X_new)\n",
    "print '예측:', prediction\n",
    "print '예측한 타깃의 이름:', iris_dataset['target_names'][prediction]"
   ]
  },
  {
   "cell_type": "markdown",
   "id": "8aecc012",
   "metadata": {},
   "source": [
    "# 모델 평가하기"
   ]
  },
  {
   "cell_type": "code",
   "execution_count": 33,
   "id": "1077cbea",
   "metadata": {},
   "outputs": [
    {
     "name": "stdout",
     "output_type": "stream",
     "text": [
      "테스트 세트에 대한 예측값:\n",
      "[2 1 0 2 0 2 0 1 1 1 2 1 1 1 1 0 1 1 0 0 2 1 0 0 2 0 0 1 1 0 2 1 0 2 2 1 0\n",
      " 2]\n"
     ]
    }
   ],
   "source": [
    "y_pred=knn.predict(X_test)\n",
    "print '테스트 세트에 대한 예측값:\\n', y_pred"
   ]
  },
  {
   "cell_type": "code",
   "execution_count": 34,
   "id": "5450fb9f",
   "metadata": {},
   "outputs": [
    {
     "name": "stdout",
     "output_type": "stream",
     "text": [
      "테스트 세트의 정확도: 0.97\n"
     ]
    }
   ],
   "source": [
    "print '테스트 세트의 정확도: {:.2f}'.format(np.mean(y_pred==y_test))"
   ]
  },
  {
   "cell_type": "code",
   "execution_count": null,
   "id": "094f7cbe",
   "metadata": {},
   "outputs": [],
   "source": []
  }
 ],
 "metadata": {
  "kernelspec": {
   "display_name": "conda_pytorch_p27",
   "language": "python",
   "name": "conda_pytorch_p27"
  },
  "language_info": {
   "codemirror_mode": {
    "name": "ipython",
    "version": 2
   },
   "file_extension": ".py",
   "mimetype": "text/x-python",
   "name": "python",
   "nbconvert_exporter": "python",
   "pygments_lexer": "ipython2",
   "version": "2.7.16"
  }
 },
 "nbformat": 4,
 "nbformat_minor": 5
}
