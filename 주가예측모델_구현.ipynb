{
  "cells": [
    {
      "cell_type": "markdown",
      "metadata": {
        "id": "view-in-github",
        "colab_type": "text"
      },
      "source": [
        "<a href=\"https://colab.research.google.com/github/min-program/deep_learning_class/blob/main/%EC%A3%BC%EA%B0%80%EC%98%88%EC%B8%A1%EB%AA%A8%EB%8D%B8_%EA%B5%AC%ED%98%84.ipynb\" target=\"_parent\"><img src=\"https://colab.research.google.com/assets/colab-badge.svg\" alt=\"Open In Colab\"/></a>"
      ]
    },
    {
      "cell_type": "code",
      "source": [
        "from google.colab import drive\n",
        "drive.mount('/content/drive')"
      ],
      "metadata": {
        "colab": {
          "base_uri": "https://localhost:8080/"
        },
        "id": "oDLEkZ1viZrD",
        "outputId": "5b545832-2aed-4b87-988f-0b2a712f7f65"
      },
      "id": "oDLEkZ1viZrD",
      "execution_count": null,
      "outputs": [
        {
          "output_type": "stream",
          "name": "stdout",
          "text": [
            "Mounted at /content/drive\n"
          ]
        }
      ]
    },
    {
      "cell_type": "code",
      "execution_count": null,
      "id": "5784b8a4",
      "metadata": {
        "id": "5784b8a4"
      },
      "outputs": [],
      "source": [
        "import torch\n",
        "import torch.nn as nn\n",
        "import torch.nn.functional as f\n",
        "from torch import optim\n",
        "from torch.optim.lr_scheduler import StepLR\n",
        "from torchvision import utils\n",
        "import matplotlib.pyplot as plt\n",
        "import glob\n",
        "%matplotlib inline\n",
        "\n",
        "import numpy as np\n",
        "import glob \n",
        "from torchvision import transforms \n",
        "from PIL import Image \n",
        "from torch.utils.data import Dataset, DataLoader \n",
        "import pandas as pd\n",
        "import os"
      ]
    },
    {
      "cell_type": "code",
      "source": [
        "df = pd.read_csv('/content/drive/MyDrive/Colab Notebooks/btc_label.csv')\n",
        "df"
      ],
      "metadata": {
        "colab": {
          "base_uri": "https://localhost:8080/",
          "height": 424
        },
        "id": "Df-Qwv9ylDxp",
        "outputId": "ab7dc6ea-778e-4fca-b5eb-3a6d9bc3c8d2"
      },
      "id": "Df-Qwv9ylDxp",
      "execution_count": null,
      "outputs": [
        {
          "output_type": "execute_result",
          "data": {
            "text/plain": [
              "           Date     Price      Open      High       Low  Change  cal  Label\n",
              "0     2017.9.26   4320000   4319000   4420000   4306000   0.000    1      2\n",
              "1     2017.9.27   4654000   4320000   4680000   4313000   0.077    2      0\n",
              "2     2017.9.28   4592000   4654000   4791000   4518000  -0.013    0      2\n",
              "3     2017.9.29   4658000   4592000   4710000   4478000   0.014    2      2\n",
              "4     2017.9.30   4891000   4658000   4898000   4654000   0.050    2      2\n",
              "...         ...       ...       ...       ...       ...     ...  ...    ...\n",
              "1672  2022.4.25  50633000  49617000  50897000  48560000   0.020    2      0\n",
              "1673  2022.4.26  48710000  50623000  51147000  48202000  -0.038    0      2\n",
              "1674  2022.4.27  49918000  48720000  50067000  48570000   0.025    2      2\n",
              "1675  2022.4.28  50549000  49915000  51169000  49667000   0.013    2      0\n",
              "1676  2022.4.29  49715000  50543000  50712000  49400000  -0.017    0      2\n",
              "\n",
              "[1677 rows x 8 columns]"
            ],
            "text/html": [
              "\n",
              "  <div id=\"df-40f62c4a-61b9-4b85-b6b4-6aab7681dcd0\">\n",
              "    <div class=\"colab-df-container\">\n",
              "      <div>\n",
              "<style scoped>\n",
              "    .dataframe tbody tr th:only-of-type {\n",
              "        vertical-align: middle;\n",
              "    }\n",
              "\n",
              "    .dataframe tbody tr th {\n",
              "        vertical-align: top;\n",
              "    }\n",
              "\n",
              "    .dataframe thead th {\n",
              "        text-align: right;\n",
              "    }\n",
              "</style>\n",
              "<table border=\"1\" class=\"dataframe\">\n",
              "  <thead>\n",
              "    <tr style=\"text-align: right;\">\n",
              "      <th></th>\n",
              "      <th>Date</th>\n",
              "      <th>Price</th>\n",
              "      <th>Open</th>\n",
              "      <th>High</th>\n",
              "      <th>Low</th>\n",
              "      <th>Change</th>\n",
              "      <th>cal</th>\n",
              "      <th>Label</th>\n",
              "    </tr>\n",
              "  </thead>\n",
              "  <tbody>\n",
              "    <tr>\n",
              "      <th>0</th>\n",
              "      <td>2017.9.26</td>\n",
              "      <td>4320000</td>\n",
              "      <td>4319000</td>\n",
              "      <td>4420000</td>\n",
              "      <td>4306000</td>\n",
              "      <td>0.000</td>\n",
              "      <td>1</td>\n",
              "      <td>2</td>\n",
              "    </tr>\n",
              "    <tr>\n",
              "      <th>1</th>\n",
              "      <td>2017.9.27</td>\n",
              "      <td>4654000</td>\n",
              "      <td>4320000</td>\n",
              "      <td>4680000</td>\n",
              "      <td>4313000</td>\n",
              "      <td>0.077</td>\n",
              "      <td>2</td>\n",
              "      <td>0</td>\n",
              "    </tr>\n",
              "    <tr>\n",
              "      <th>2</th>\n",
              "      <td>2017.9.28</td>\n",
              "      <td>4592000</td>\n",
              "      <td>4654000</td>\n",
              "      <td>4791000</td>\n",
              "      <td>4518000</td>\n",
              "      <td>-0.013</td>\n",
              "      <td>0</td>\n",
              "      <td>2</td>\n",
              "    </tr>\n",
              "    <tr>\n",
              "      <th>3</th>\n",
              "      <td>2017.9.29</td>\n",
              "      <td>4658000</td>\n",
              "      <td>4592000</td>\n",
              "      <td>4710000</td>\n",
              "      <td>4478000</td>\n",
              "      <td>0.014</td>\n",
              "      <td>2</td>\n",
              "      <td>2</td>\n",
              "    </tr>\n",
              "    <tr>\n",
              "      <th>4</th>\n",
              "      <td>2017.9.30</td>\n",
              "      <td>4891000</td>\n",
              "      <td>4658000</td>\n",
              "      <td>4898000</td>\n",
              "      <td>4654000</td>\n",
              "      <td>0.050</td>\n",
              "      <td>2</td>\n",
              "      <td>2</td>\n",
              "    </tr>\n",
              "    <tr>\n",
              "      <th>...</th>\n",
              "      <td>...</td>\n",
              "      <td>...</td>\n",
              "      <td>...</td>\n",
              "      <td>...</td>\n",
              "      <td>...</td>\n",
              "      <td>...</td>\n",
              "      <td>...</td>\n",
              "      <td>...</td>\n",
              "    </tr>\n",
              "    <tr>\n",
              "      <th>1672</th>\n",
              "      <td>2022.4.25</td>\n",
              "      <td>50633000</td>\n",
              "      <td>49617000</td>\n",
              "      <td>50897000</td>\n",
              "      <td>48560000</td>\n",
              "      <td>0.020</td>\n",
              "      <td>2</td>\n",
              "      <td>0</td>\n",
              "    </tr>\n",
              "    <tr>\n",
              "      <th>1673</th>\n",
              "      <td>2022.4.26</td>\n",
              "      <td>48710000</td>\n",
              "      <td>50623000</td>\n",
              "      <td>51147000</td>\n",
              "      <td>48202000</td>\n",
              "      <td>-0.038</td>\n",
              "      <td>0</td>\n",
              "      <td>2</td>\n",
              "    </tr>\n",
              "    <tr>\n",
              "      <th>1674</th>\n",
              "      <td>2022.4.27</td>\n",
              "      <td>49918000</td>\n",
              "      <td>48720000</td>\n",
              "      <td>50067000</td>\n",
              "      <td>48570000</td>\n",
              "      <td>0.025</td>\n",
              "      <td>2</td>\n",
              "      <td>2</td>\n",
              "    </tr>\n",
              "    <tr>\n",
              "      <th>1675</th>\n",
              "      <td>2022.4.28</td>\n",
              "      <td>50549000</td>\n",
              "      <td>49915000</td>\n",
              "      <td>51169000</td>\n",
              "      <td>49667000</td>\n",
              "      <td>0.013</td>\n",
              "      <td>2</td>\n",
              "      <td>0</td>\n",
              "    </tr>\n",
              "    <tr>\n",
              "      <th>1676</th>\n",
              "      <td>2022.4.29</td>\n",
              "      <td>49715000</td>\n",
              "      <td>50543000</td>\n",
              "      <td>50712000</td>\n",
              "      <td>49400000</td>\n",
              "      <td>-0.017</td>\n",
              "      <td>0</td>\n",
              "      <td>2</td>\n",
              "    </tr>\n",
              "  </tbody>\n",
              "</table>\n",
              "<p>1677 rows × 8 columns</p>\n",
              "</div>\n",
              "      <button class=\"colab-df-convert\" onclick=\"convertToInteractive('df-40f62c4a-61b9-4b85-b6b4-6aab7681dcd0')\"\n",
              "              title=\"Convert this dataframe to an interactive table.\"\n",
              "              style=\"display:none;\">\n",
              "        \n",
              "  <svg xmlns=\"http://www.w3.org/2000/svg\" height=\"24px\"viewBox=\"0 0 24 24\"\n",
              "       width=\"24px\">\n",
              "    <path d=\"M0 0h24v24H0V0z\" fill=\"none\"/>\n",
              "    <path d=\"M18.56 5.44l.94 2.06.94-2.06 2.06-.94-2.06-.94-.94-2.06-.94 2.06-2.06.94zm-11 1L8.5 8.5l.94-2.06 2.06-.94-2.06-.94L8.5 2.5l-.94 2.06-2.06.94zm10 10l.94 2.06.94-2.06 2.06-.94-2.06-.94-.94-2.06-.94 2.06-2.06.94z\"/><path d=\"M17.41 7.96l-1.37-1.37c-.4-.4-.92-.59-1.43-.59-.52 0-1.04.2-1.43.59L10.3 9.45l-7.72 7.72c-.78.78-.78 2.05 0 2.83L4 21.41c.39.39.9.59 1.41.59.51 0 1.02-.2 1.41-.59l7.78-7.78 2.81-2.81c.8-.78.8-2.07 0-2.86zM5.41 20L4 18.59l7.72-7.72 1.47 1.35L5.41 20z\"/>\n",
              "  </svg>\n",
              "      </button>\n",
              "      \n",
              "  <style>\n",
              "    .colab-df-container {\n",
              "      display:flex;\n",
              "      flex-wrap:wrap;\n",
              "      gap: 12px;\n",
              "    }\n",
              "\n",
              "    .colab-df-convert {\n",
              "      background-color: #E8F0FE;\n",
              "      border: none;\n",
              "      border-radius: 50%;\n",
              "      cursor: pointer;\n",
              "      display: none;\n",
              "      fill: #1967D2;\n",
              "      height: 32px;\n",
              "      padding: 0 0 0 0;\n",
              "      width: 32px;\n",
              "    }\n",
              "\n",
              "    .colab-df-convert:hover {\n",
              "      background-color: #E2EBFA;\n",
              "      box-shadow: 0px 1px 2px rgba(60, 64, 67, 0.3), 0px 1px 3px 1px rgba(60, 64, 67, 0.15);\n",
              "      fill: #174EA6;\n",
              "    }\n",
              "\n",
              "    [theme=dark] .colab-df-convert {\n",
              "      background-color: #3B4455;\n",
              "      fill: #D2E3FC;\n",
              "    }\n",
              "\n",
              "    [theme=dark] .colab-df-convert:hover {\n",
              "      background-color: #434B5C;\n",
              "      box-shadow: 0px 1px 3px 1px rgba(0, 0, 0, 0.15);\n",
              "      filter: drop-shadow(0px 1px 2px rgba(0, 0, 0, 0.3));\n",
              "      fill: #FFFFFF;\n",
              "    }\n",
              "  </style>\n",
              "\n",
              "      <script>\n",
              "        const buttonEl =\n",
              "          document.querySelector('#df-40f62c4a-61b9-4b85-b6b4-6aab7681dcd0 button.colab-df-convert');\n",
              "        buttonEl.style.display =\n",
              "          google.colab.kernel.accessAllowed ? 'block' : 'none';\n",
              "\n",
              "        async function convertToInteractive(key) {\n",
              "          const element = document.querySelector('#df-40f62c4a-61b9-4b85-b6b4-6aab7681dcd0');\n",
              "          const dataTable =\n",
              "            await google.colab.kernel.invokeFunction('convertToInteractive',\n",
              "                                                     [key], {});\n",
              "          if (!dataTable) return;\n",
              "\n",
              "          const docLinkHtml = 'Like what you see? Visit the ' +\n",
              "            '<a target=\"_blank\" href=https://colab.research.google.com/notebooks/data_table.ipynb>data table notebook</a>'\n",
              "            + ' to learn more about interactive tables.';\n",
              "          element.innerHTML = '';\n",
              "          dataTable['output_type'] = 'display_data';\n",
              "          await google.colab.output.renderOutput(dataTable, element);\n",
              "          const docLink = document.createElement('div');\n",
              "          docLink.innerHTML = docLinkHtml;\n",
              "          element.appendChild(docLink);\n",
              "        }\n",
              "      </script>\n",
              "    </div>\n",
              "  </div>\n",
              "  "
            ]
          },
          "metadata": {},
          "execution_count": 3
        }
      ]
    },
    {
      "cell_type": "code",
      "execution_count": null,
      "id": "a429cee8",
      "metadata": {
        "scrolled": true,
        "id": "a429cee8"
      },
      "outputs": [],
      "source": [
        "class Dataset(Dataset): \n",
        "    def __init__(self, path, train=True, transform=None): \n",
        "        df = pd.read_csv('/content/drive/MyDrive/Colab Notebooks/btc_label.csv')\n",
        "        self.path = path \n",
        "        \n",
        "        self.train_path = path + '/train'  \n",
        "        self.test_path = path + '/test'\n",
        "            \n",
        "        self.train_list = glob.glob(self.train_path + '/*.jpg') \n",
        "        self.test_list = glob.glob(self.test_path + '/*.jpg') \n",
        "        \n",
        "        self.transform = transform \n",
        "        \n",
        "        self.img_list = self.train_list + self.test_list \n",
        "        \n",
        "        self.Image_list = []  \n",
        "        for img_path in self.img_list: \n",
        "            self.Image_list.append(Image.open(img_path))\n",
        "        \n",
        "        self.class_list = df['Label']\n",
        "        \n",
        "    def __len__(self): \n",
        "        return len(self.img_list)\n",
        "    \n",
        "    def __getitem__(self, idx): \n",
        "        img = self.Image_list[idx] \n",
        "        label = self.class_list[idx]\n",
        "        \n",
        "        if self.transform is not None: \n",
        "            img = self.transform(img) \n",
        "            \n",
        "        \n",
        "        return img, label \n",
        "\n",
        "if __name__ == \"__main__\": \n",
        "    transform = transforms.Compose([\n",
        "        transforms.Resize(224),\n",
        "        transforms.ToTensor(),\n",
        "        #transforms.Normalize((0.5, 0.5, 0.5), (0.5, 0.5, 0.5)),\n",
        "    ]) \n",
        "    \n",
        "    train_ds = Dataset(path='/content/drive/MyDrive/Colab Notebooks', train=True, transform=transform)\n",
        "    trainloader = DataLoader(dataset=train_ds, batch_size=1, shuffle=True, drop_last=False)\n",
        "    \n",
        "    test_ds = Dataset(path='/content/drive/MyDrive/Colab Notebooks', train=False, transform=transform)\n",
        "    testloader = DataLoader(dataset=test_ds, batch_size=1, shuffle=True, drop_last=False)\n",
        "     \n",
        "    \n",
        "    for epoch in range(1): \n",
        "        #print(f\"epoch : {epoch} \") \n",
        "        for batch in trainloader: \n",
        "            img, label = batch \n",
        "            #print(img.size(), label)\n"
      ]
    },
    {
      "cell_type": "code",
      "execution_count": null,
      "id": "061c094f",
      "metadata": {
        "colab": {
          "base_uri": "https://localhost:8080/",
          "height": 287
        },
        "id": "061c094f",
        "outputId": "59929841-f2d5-49dd-a8e9-633bd37e087d"
      },
      "outputs": [
        {
          "output_type": "stream",
          "name": "stdout",
          "text": [
            "tensor(2)\n"
          ]
        },
        {
          "output_type": "display_data",
          "data": {
            "text/plain": [
              "<Figure size 432x288 with 1 Axes>"
            ],
            "image/png": "[encoded data removed]"
          },
          "metadata": {
            "needs_background": "light"
          }
        }
      ],
      "source": [
        "import torchvision\n",
        "\n",
        "def imshow(img):\n",
        "    img = img / 2 + 0.5     # unnormalize\n",
        "    npimg = img.numpy()\n",
        "    plt.imshow(np.transpose(npimg, (1, 2, 0)))\n",
        "\n",
        "\n",
        "# get some random training images\n",
        "dataiter = iter(trainloader)\n",
        "images, labels = dataiter.next()\n",
        "\n",
        "# show images\n",
        "imshow(torchvision.utils.make_grid(images))\n",
        "# print labels\n",
        "print(torchvision.utils.make_grid(labels))"
      ]
    },
    {
      "cell_type": "code",
      "execution_count": null,
      "id": "a290eb78",
      "metadata": {
        "id": "a290eb78"
      },
      "outputs": [],
      "source": [
        "def conv_2_block(in_dim,out_dim):\n",
        "    model = nn.Sequential(\n",
        "        nn.Conv2d(in_dim,out_dim,kernel_size=3,padding=1),\n",
        "        nn.ReLU(),\n",
        "        nn.Conv2d(out_dim,out_dim,kernel_size=3,padding=1),\n",
        "        nn.ReLU(),\n",
        "        nn.MaxPool2d(2,2)\n",
        "    )\n",
        "    return model"
      ]
    },
    {
      "cell_type": "code",
      "execution_count": null,
      "id": "3d6f9469",
      "metadata": {
        "id": "3d6f9469"
      },
      "outputs": [],
      "source": [
        "def conv_3_block(in_dim,out_dim):\n",
        "    model = nn.Sequential(\n",
        "        nn.Conv2d(in_dim,out_dim,kernel_size=3,padding=1),\n",
        "        nn.ReLU(),\n",
        "        nn.Conv2d(out_dim,out_dim,kernel_size=3,padding=1),\n",
        "        nn.ReLU(),\n",
        "        nn.Conv2d(out_dim,out_dim,kernel_size=3,padding=1),\n",
        "        nn.ReLU(),\n",
        "        nn.MaxPool2d(2,2)\n",
        "    )\n",
        "    return model"
      ]
    },
    {
      "cell_type": "code",
      "execution_count": null,
      "id": "da46c0cc",
      "metadata": {
        "id": "da46c0cc"
      },
      "outputs": [],
      "source": [
        "class VGG(nn.Module):\n",
        "    def __init__(self, base_dim, num_classes=10):\n",
        "        super(VGG, self).__init__()\n",
        "        self.feature = nn.Sequential(\n",
        "            conv_2_block(3,base_dim), #64\n",
        "            conv_2_block(base_dim,2*base_dim), #128\n",
        "            conv_3_block(2*base_dim,4*base_dim), #256\n",
        "            conv_3_block(4*base_dim,8*base_dim), #512\n",
        "            conv_3_block(8*base_dim,8*base_dim), #512        \n",
        "        )\n",
        "        self.fc_layer = nn.Sequential(\n",
        "            # CIFAR10은 크기가 32x32이므로 \n",
        "            #nn.Linear(8*base_dim*1*1, 4096),\n",
        "            # IMAGENET이면 224x224이므로\n",
        "            nn.Linear(8*base_dim*7*7, 4096),\n",
        "            nn.ReLU(True),\n",
        "            nn.Dropout(),\n",
        "            nn.Linear(4096, 1000),\n",
        "            nn.ReLU(True),\n",
        "            nn.Dropout(),\n",
        "            nn.Linear(1000, num_classes),\n",
        "        )\n",
        "\n",
        "    def forward(self, x):\n",
        "        x = self.feature(x)\n",
        "        #print(x.shape)\n",
        "        x = x.view(x.size(0), -1)\n",
        "        #print(x.shape)\n",
        "        x = self.fc_layer(x)\n",
        "        return x"
      ]
    },
    {
      "cell_type": "code",
      "execution_count": null,
      "id": "a5dbdf99",
      "metadata": {
        "id": "a5dbdf99"
      },
      "outputs": [],
      "source": [
        "batch_size = 100\n",
        "learning_rate = 0.0002\n",
        "num_epoch = 8"
      ]
    },
    {
      "cell_type": "code",
      "execution_count": null,
      "id": "17d70a32",
      "metadata": {
        "id": "17d70a32"
      },
      "outputs": [],
      "source": [
        "# device 설정\n",
        "device = torch.device(\"cuda:0\" if torch.cuda.is_available() else \"cpu\")\n",
        "\n",
        "# VGG 클래스를 인스턴스화\n",
        "model = VGG(base_dim=64).to(device)\n",
        "\n",
        "# 손실함수 및 최적화함수 설정\n",
        "loss_func = nn.CrossEntropyLoss()\n",
        "optimizer = torch.optim.Adam(model.parameters(), lr=learning_rate)"
      ]
    },
    {
      "cell_type": "code",
      "execution_count": null,
      "id": "7f2b1466",
      "metadata": {
        "colab": {
          "base_uri": "https://localhost:8080/"
        },
        "id": "7f2b1466",
        "outputId": "a60267b2-b382-490d-c082-3ec81f31deb7"
      },
      "outputs": [
        {
          "output_type": "stream",
          "name": "stdout",
          "text": [
            "28\n",
            "torch.Size([128, 3, 3, 3])\n",
            "torch.Size([128])\n",
            "torch.Size([64, 64, 3, 3])\n",
            "torch.Size([64])\n",
            "torch.Size([128, 64, 3, 3])\n",
            "torch.Size([128])\n",
            "torch.Size([128, 128, 3, 3])\n",
            "torch.Size([128])\n",
            "torch.Size([256, 128, 3, 3])\n",
            "torch.Size([256])\n",
            "torch.Size([256, 256, 3, 3])\n",
            "torch.Size([256])\n",
            "torch.Size([256, 256, 3, 3])\n",
            "torch.Size([256])\n",
            "torch.Size([512, 256, 3, 3])\n",
            "torch.Size([512])\n",
            "torch.Size([512, 512, 3, 3])\n",
            "torch.Size([512])\n",
            "torch.Size([512, 512, 3, 3])\n",
            "torch.Size([512])\n",
            "torch.Size([512, 512, 3, 3])\n",
            "torch.Size([512])\n",
            "torch.Size([512, 512, 3, 3])\n",
            "torch.Size([512])\n",
            "torch.Size([512, 512, 3, 3])\n",
            "torch.Size([512])\n",
            "torch.Size([10, 512])\n",
            "torch.Size([10])\n"
          ]
        }
      ],
      "source": [
        "class Net(nn.Module):\n",
        "    def __init__(self):\n",
        "        super(Net, self).__init__()\n",
        "        self.conv = nn.Sequential(\n",
        "            #3 224 128\n",
        "            nn.Conv2d(3, 128, 3, padding=1),nn.LeakyReLU(0.2),\n",
        "            nn.Conv2d(64, 64, 3, padding=1),nn.LeakyReLU(0.2),\n",
        "            nn.MaxPool2d(2, 2),\n",
        "            #64 112 64\n",
        "            nn.Conv2d(64, 128, 3, padding=1),nn.LeakyReLU(0.2),\n",
        "            nn.Conv2d(128, 128, 3, padding=1),nn.LeakyReLU(0.2),\n",
        "            nn.MaxPool2d(2, 2),\n",
        "            #128 56 32\n",
        "            nn.Conv2d(128, 256, 3, padding=1),nn.LeakyReLU(0.2),\n",
        "            nn.Conv2d(256, 256, 3, padding=1),nn.LeakyReLU(0.2),\n",
        "            nn.Conv2d(256, 256, 3, padding=1),nn.LeakyReLU(0.2),\n",
        "            nn.MaxPool2d(2, 2),\n",
        "            #256 28 16\n",
        "            nn.Conv2d(256, 512, 3, padding=1),nn.LeakyReLU(0.2),\n",
        "            nn.Conv2d(512, 512, 3, padding=1),nn.LeakyReLU(0.2),\n",
        "            nn.Conv2d(512, 512, 3, padding=1),nn.LeakyReLU(0.2),\n",
        "            nn.MaxPool2d(2, 2),\n",
        "            #512 14 8\n",
        "            nn.Conv2d(512, 512, 3, padding=1),nn.LeakyReLU(0.2),\n",
        "            nn.Conv2d(512, 512, 3, padding=1),nn.LeakyReLU(0.2),\n",
        "            nn.Conv2d(512, 512, 3, padding=1),nn.LeakyReLU(0.2),\n",
        "            nn.MaxPool2d(2, 2)\n",
        "        )\n",
        "        #512 7 4\n",
        "\n",
        "        self.avg_pool = nn.AvgPool2d(7)\n",
        "        #512 1 1\n",
        "        self.classifier = nn.Linear(512, 10)\n",
        "        \"\"\"\n",
        "        self.fc1 = nn.Linear(512*2*2,4096)\n",
        "        self.fc2 = nn.Linear(4096,4096)\n",
        "        self.fc3 = nn.Linear(4096,10)\n",
        "        \"\"\"\n",
        "\n",
        "    def forward(self, x):\n",
        "\n",
        "        #print(x.size())\n",
        "        features = self.conv(x)\n",
        "        #print(features.size())\n",
        "        x = self.avg_pool(features)\n",
        "        #print(avg_pool.size())\n",
        "        x = x.view(features.size(0), -1)\n",
        "        #print(flatten.size())\n",
        "        x = self.classifier(x)\n",
        "        #x = self.softmax(x)\n",
        "        return x, features\n",
        "\n",
        "device = torch.device(\"cuda:0\" if torch.cuda.is_available() else \"cpu\")\n",
        "\n",
        "net = Net()\n",
        "net = net.to(device)\n",
        "param = list(net.parameters())\n",
        "print(len(param))\n",
        "for i in param:\n",
        "    print(i.shape)\n",
        "#print(param[0].shape)"
      ]
    },
    {
      "cell_type": "code",
      "execution_count": null,
      "id": "74adfc51",
      "metadata": {
        "colab": {
          "base_uri": "https://localhost:8080/"
        },
        "id": "74adfc51",
        "outputId": "9450893a-1186-4034-89f3-fd1a7b18fac6"
      },
      "outputs": [
        {
          "output_type": "stream",
          "name": "stdout",
          "text": [
            "0 tensor(0.9864, device='cuda:0', grad_fn=<NllLossBackward0>)\n",
            "1000 tensor(0.9295, device='cuda:0', grad_fn=<NllLossBackward0>)\n",
            "0 tensor(1.3383, device='cuda:0', grad_fn=<NllLossBackward0>)\n",
            "1000 tensor(1.1458, device='cuda:0', grad_fn=<NllLossBackward0>)\n",
            "0 tensor(1.1340, device='cuda:0', grad_fn=<NllLossBackward0>)\n",
            "1000 tensor(1.4308, device='cuda:0', grad_fn=<NllLossBackward0>)\n",
            "0 tensor(1.0254, device='cuda:0', grad_fn=<NllLossBackward0>)\n",
            "1000 tensor(1.1452, device='cuda:0', grad_fn=<NllLossBackward0>)\n",
            "0 tensor(0.9784, device='cuda:0', grad_fn=<NllLossBackward0>)\n",
            "1000 tensor(1.1578, device='cuda:0', grad_fn=<NllLossBackward0>)\n",
            "0 tensor(1.1635, device='cuda:0', grad_fn=<NllLossBackward0>)\n",
            "1000 tensor(0.8661, device='cuda:0', grad_fn=<NllLossBackward0>)\n",
            "0 tensor(1.2716, device='cuda:0', grad_fn=<NllLossBackward0>)\n",
            "1000 tensor(1.0812, device='cuda:0', grad_fn=<NllLossBackward0>)\n",
            "0 tensor(1.0025, device='cuda:0', grad_fn=<NllLossBackward0>)\n",
            "1000 tensor(0.9360, device='cuda:0', grad_fn=<NllLossBackward0>)\n"
          ]
        }
      ],
      "source": [
        "model.train()\n",
        "loss_arr = []\n",
        "for i in range(num_epoch):\n",
        "    for j, [image, label] in enumerate(trainloader):\n",
        "        x=image.to(device)\n",
        "        y_=label.to(device)\n",
        "\n",
        "        optimizer.zero_grad()\n",
        "        output=model.forward(x)\n",
        "        loss=loss_func(output,y_)\n",
        "        loss.backward()\n",
        "        optimizer.step()\n",
        "\n",
        "        if j%1000==0:\n",
        "            print(j, loss)\n",
        "            loss_arr.append(loss.cpu().detach().numpy())"
      ]
    },
    {
      "cell_type": "code",
      "execution_count": null,
      "id": "5ab94069",
      "metadata": {
        "colab": {
          "base_uri": "https://localhost:8080/",
          "height": 265
        },
        "id": "5ab94069",
        "outputId": "b321201c-494b-43c0-be23-569fea9b03b9"
      },
      "outputs": [
        {
          "output_type": "display_data",
          "data": {
            "text/plain": [
              "<Figure size 432x288 with 1 Axes>"
            ],
            "image/png": "[encoded data removed]"
          },
          "metadata": {
            "needs_background": "light"
          }
        }
      ],
      "source": [
        "plt.plot(loss_arr)\n",
        "plt.show()"
      ]
    },
    {
      "cell_type": "code",
      "execution_count": null,
      "id": "c7c9475a",
      "metadata": {
        "colab": {
          "base_uri": "https://localhost:8080/"
        },
        "id": "c7c9475a",
        "outputId": "a16c33c9-85a0-41fd-9942-c3e9056de576"
      },
      "outputs": [
        {
          "output_type": "stream",
          "name": "stdout",
          "text": [
            "Accuracy of Test Data: 36.73225784301758%\n"
          ]
        }
      ],
      "source": [
        "# 맞은 개수, 전체 개수를 저장할 변수를 지정합니다.\n",
        "correct = 0\n",
        "total = 0\n",
        "\n",
        "model.eval()\n",
        "\n",
        "# 인퍼런스 모드를 위해 no_grad 해줍니다.\n",
        "with torch.no_grad():\n",
        "    # 테스트로더에서 이미지와 정답을 불러옵니다.\n",
        "    for image,label in testloader:\n",
        "        \n",
        "        # 두 데이터 모두 장치에 올립니다.\n",
        "        x = image.to(device)\n",
        "        y= label.to(device)\n",
        "\n",
        "        # 모델에 데이터를 넣고 결과값을 얻습니다.\n",
        "        output = model.forward(x)\n",
        "        _,output_index = torch.max(output,1)\n",
        "\n",
        "        \n",
        "        # 전체 개수 += 라벨의 개수\n",
        "        total += label.size(0)\n",
        "        correct += (output_index == y).sum().float()\n",
        "    \n",
        "    # 정확도 도출\n",
        "    print(\"Accuracy of Test Data: {}%\".format(100*correct/total))"
      ]
    },
    {
      "cell_type": "code",
      "source": [],
      "metadata": {
        "id": "2mtBgrIAw-VL"
      },
      "id": "2mtBgrIAw-VL",
      "execution_count": null,
      "outputs": []
    }
  ],
  "metadata": {
    "kernelspec": {
      "display_name": "Python 3 (ipykernel)",
      "language": "python",
      "name": "python3"
    },
    "language_info": {
      "codemirror_mode": {
        "name": "ipython",
        "version": 3
      },
      "file_extension": ".py",
      "mimetype": "text/x-python",
      "name": "python",
      "nbconvert_exporter": "python",
      "pygments_lexer": "ipython3",
      "version": "3.9.7"
    },
    "colab": {
      "provenance": [],
      "include_colab_link": true
    },
    "accelerator": "GPU"
  },
  "nbformat": 4,
  "nbformat_minor": 5
}