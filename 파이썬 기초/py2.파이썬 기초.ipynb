{
 "cells": [
  {
   "cell_type": "code",
   "execution_count": 1,
   "id": "191a6e27",
   "metadata": {},
   "outputs": [
    {
     "name": "stdout",
     "output_type": "stream",
     "text": [
      "Hello, world\n",
      "정수: 3, 03, 003, 0003, 00003\n",
      "정수: 256, 256, 256, 0256, 00256\n",
      "문자열: [Hello. world]\n"
     ]
    }
   ],
   "source": [
    "print(\"Hello, world\")\n",
    "\n",
    "x=3\n",
    "print (\"정수: %01d, %02d, %03d, %04d, %05d\"%(x,x,x,x,x))\n",
    "\n",
    "x=256.123\n",
    "print (\"정수: %01d, %02d, %03d, %04d, %05d\" %(x,x,x,x,x))\n",
    "\n",
    "x=\"Hello. world\"\n",
    "print(\"문자열: [%s]\" %(x))"
   ]
  },
  {
   "cell_type": "code",
   "execution_count": null,
   "id": "de61bede",
   "metadata": {},
   "outputs": [],
   "source": []
  }
 ],
 "metadata": {
  "kernelspec": {
   "display_name": "conda_pytorch_p27",
   "language": "python",
   "name": "conda_pytorch_p27"
  },
  "language_info": {
   "codemirror_mode": {
    "name": "ipython",
    "version": 2
   },
   "file_extension": ".py",
   "mimetype": "text/x-python",
   "name": "python",
   "nbconvert_exporter": "python",
   "pygments_lexer": "ipython2",
   "version": "2.7.16"
  }
 },
 "nbformat": 4,
 "nbformat_minor": 5
}
