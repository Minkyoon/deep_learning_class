{
 "cells": [
  {
   "cell_type": "code",
   "execution_count": 2,
   "id": "98e5bcc7",
   "metadata": {},
   "outputs": [
    {
     "name": "stdout",
     "output_type": "stream",
     "text": [
      "[0/10]:Regression\n",
      "[1/10]:Classification\n",
      "[2/10]:SVM\n",
      "[3/10]:Clustering\n",
      "[4/10]:Demension reduction\n",
      "[5/10]:NN\n",
      "[6/10]:CNN\n",
      "[7/10]:AE\n",
      "[8/10]:GAN\n",
      "[9/10]:RNN\n"
     ]
    }
   ],
   "source": [
    "contents= [\"Regression\",\"Classification\",\"SVM\",\"Clustering\",\"Demension reduction\",\n",
    "          \"NN\", \"CNN\", \"AE\", \"GAN\", \"RNN\" ]\n",
    "for (i, con) in enumerate(contents):\n",
    "    print(\"[%d/%d]:%s\" %(i, len(contents),con))"
   ]
  },
  {
   "cell_type": "code",
   "execution_count": null,
   "id": "6569c093",
   "metadata": {},
   "outputs": [],
   "source": []
  }
 ],
 "metadata": {
  "kernelspec": {
   "display_name": "conda_pytorch_p27",
   "language": "python",
   "name": "conda_pytorch_p27"
  },
  "language_info": {
   "codemirror_mode": {
    "name": "ipython",
    "version": 2
   },
   "file_extension": ".py",
   "mimetype": "text/x-python",
   "name": "python",
   "nbconvert_exporter": "python",
   "pygments_lexer": "ipython2",
   "version": "2.7.16"
  }
 },
 "nbformat": 4,
 "nbformat_minor": 5
}
