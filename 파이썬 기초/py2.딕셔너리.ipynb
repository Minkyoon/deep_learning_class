{
 "cells": [
  {
   "cell_type": "code",
   "execution_count": 2,
   "id": "52d39a5b",
   "metadata": {},
   "outputs": [
    {
     "name": "stdout",
     "output_type": "stream",
     "text": [
      "{'town': 'Goyang city', 'job': 'Assistant professor', 'name': 'Heekyoung'}\n"
     ]
    }
   ],
   "source": [
    "dic= dict()\n",
    "dic[\"name\"]= \"Heekyoung\"\n",
    "dic[\"town\"]= \"Goyang city\"\n",
    "dic[\"job\"]= \"Assistant professor\"\n",
    "print dic"
   ]
  },
  {
   "cell_type": "code",
   "execution_count": null,
   "id": "e0b3cc01",
   "metadata": {},
   "outputs": [],
   "source": []
  }
 ],
 "metadata": {
  "kernelspec": {
   "display_name": "conda_pytorch_p27",
   "language": "python",
   "name": "conda_pytorch_p27"
  },
  "language_info": {
   "codemirror_mode": {
    "name": "ipython",
    "version": 2
   },
   "file_extension": ".py",
   "mimetype": "text/x-python",
   "name": "python",
   "nbconvert_exporter": "python",
   "pygments_lexer": "ipython2",
   "version": "2.7.16"
  }
 },
 "nbformat": 4,
 "nbformat_minor": 5
}
