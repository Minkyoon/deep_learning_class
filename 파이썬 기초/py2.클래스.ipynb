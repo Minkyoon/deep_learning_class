{
 "cells": [
  {
   "cell_type": "code",
   "execution_count": 1,
   "id": "05378a52",
   "metadata": {},
   "outputs": [
    {
     "name": "stdout",
     "output_type": "stream",
     "text": [
      "Heekyung 학생은 공부합니다.\n",
      "Heekyung 학생은 열심히 공부합니다.\n"
     ]
    }
   ],
   "source": [
    "class Student:\n",
    "    def __init__(self, name):\n",
    "        self.name= name\n",
    "    def study(self, hard=False):\n",
    "        if hard:\n",
    "            print \"%s 학생은 열심히 공부합니다.\" %self.name\n",
    "        else:\n",
    "            print\"%s 학생은 공부합니다.\" %self.name\n",
    "            \n",
    "s=Student('Heekyung')\n",
    "s.study()\n",
    "s.study(hard=True)\n",
    "\n",
    "    "
   ]
  },
  {
   "cell_type": "code",
   "execution_count": null,
   "id": "fe62f980",
   "metadata": {},
   "outputs": [],
   "source": []
  }
 ],
 "metadata": {
  "kernelspec": {
   "display_name": "conda_pytorch_p27",
   "language": "python",
   "name": "conda_pytorch_p27"
  },
  "language_info": {
   "codemirror_mode": {
    "name": "ipython",
    "version": 2
   },
   "file_extension": ".py",
   "mimetype": "text/x-python",
   "name": "python",
   "nbconvert_exporter": "python",
   "pygments_lexer": "ipython2",
   "version": "2.7.16"
  }
 },
 "nbformat": 4,
 "nbformat_minor": 5
}
