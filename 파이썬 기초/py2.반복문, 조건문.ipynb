{
 "cells": [
  {
   "cell_type": "code",
   "execution_count": 8,
   "id": "c0b93e17",
   "metadata": {},
   "outputs": [
    {
     "name": "stdout",
     "output_type": "stream",
     "text": [
      "Regression 은(는) 기계학습 내용입니다.\n",
      "Classification 은(는) 기계학습 내용입니다.\n",
      "SVM 은(는) 기계학습 내용입니다.\n",
      "Clustering 은(는) 기계학습 내용입니다.\n",
      "Demension reduction 은(는) 기계학습 내용입니다.\n",
      "NN 은(는) 심층학습 내용입니다.\n",
      "CNN 은(는) convolutional neural networ 입니다.\n",
      "AE 은(는) 심층학습 내용입니다.\n",
      "GAN 은(는) 심층학습 내용입니다.\n",
      "RNN 은(는) 심층학습 내용입니다.\n"
     ]
    }
   ],
   "source": [
    "contents= [\"Regression\",\"Classification\",\"SVM\",\"Clustering\",\"Demension reduction\",\n",
    "          \"NN\", \"CNN\", \"AE\", \"GAN\", \"RNN\" ]\n",
    "for con in contents:\n",
    "    if con in [\"Regression\", \"Classification\", \"SVM\",\"Clustering\",\"Demension reduction\"]:\n",
    "        print(\"%s 은(는) 기계학습 내용입니다.\" %con)\n",
    "    elif con in[\"CNN\"]:\n",
    "        print (\"%s 은(는) convolutional neural networ 입니다.\" %con)\n",
    "    else:\n",
    "        print(\"%s 은(는) 심층학습 내용입니다.\"%con)"
   ]
  }
 ],
 "metadata": {
  "kernelspec": {
   "display_name": "conda_pytorch_p27",
   "language": "python",
   "name": "conda_pytorch_p27"
  },
  "language_info": {
   "codemirror_mode": {
    "name": "ipython",
    "version": 2
   },
   "file_extension": ".py",
   "mimetype": "text/x-python",
   "name": "python",
   "nbconvert_exporter": "python",
   "pygments_lexer": "ipython2",
   "version": "2.7.16"
  }
 },
 "nbformat": 4,
 "nbformat_minor": 5
}
