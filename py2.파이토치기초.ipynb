{
 "cells": [
  {
   "cell_type": "code",
   "execution_count": 13,
   "id": "155bf9ba",
   "metadata": {},
   "outputs": [
    {
     "name": "stdout",
     "output_type": "stream",
     "text": [
      "Type <class 'torch.Tensor'>\n",
      "Shape: torch.Size([2, 3, 2])\n",
      "값:\n",
      "tensor([[[0.6161, 0.0598],\n",
      "         [0.2130, 0.2925],\n",
      "         [0.2040, 0.5524]],\n",
      "\n",
      "        [[0.9053, 0.7947],\n",
      "         [0.2955, 0.8605],\n",
      "         [0.0192, 0.3830]]])\n",
      "\n",
      "Type <class 'torch.Tensor'>\n",
      "Shape: torch.Size([2, 3])\n",
      "값:\n",
      "tensor([[ 0.4487,  0.0563, -1.0892],\n",
      "        [ 0.2664,  0.1859, -0.1893]])\n",
      "\n"
     ]
    }
   ],
   "source": [
    "import torch\n",
    "import numpy as np\n",
    "def print_val(x):\n",
    "    print\"Type\" , type(x)\n",
    "    print \"Shape:\", x.shape\n",
    "    print \"값:\\n\", x\n",
    "    print(\"\")\n",
    "x= torch.rand(2,3,2)\n",
    "print_val(x)\n",
    "\n",
    "x=torch.randn(2,3)\n",
    "print_val(x)"
   ]
  },
  {
   "cell_type": "code",
   "execution_count": 3,
   "id": "208616b4",
   "metadata": {},
   "outputs": [
    {
     "name": "stdout",
     "output_type": "stream",
     "text": [
      "Type <class 'torch.Tensor'>\n",
      "Shape: torch.Size([4])\n",
      "값:\n",
      "tensor([0, 1, 2, 3])\n",
      "\n"
     ]
    }
   ],
   "source": [
    "x= torch.randperm(4)\n",
    "print_val(x)"
   ]
  },
  {
   "cell_type": "code",
   "execution_count": 4,
   "id": "bc6a90da",
   "metadata": {},
   "outputs": [
    {
     "name": "stdout",
     "output_type": "stream",
     "text": [
      "Type <class 'torch.Tensor'>\n",
      "Shape: torch.Size([6])\n",
      "값:\n",
      "tensor([0.0000, 0.5000, 1.0000, 1.5000, 2.0000, 2.5000])\n",
      "\n"
     ]
    }
   ],
   "source": [
    "x= torch.arange(0, 3, step=0.5)\n",
    "print_val(x)"
   ]
  },
  {
   "cell_type": "code",
   "execution_count": 6,
   "id": "958bfa23",
   "metadata": {},
   "outputs": [
    {
     "name": "stdout",
     "output_type": "stream",
     "text": [
      "Type <class 'torch.Tensor'>\n",
      "Shape: torch.Size([3, 4])\n",
      "값:\n",
      "tensor([[1., 1., 1., 1.],\n",
      "        [1., 1., 1., 1.],\n",
      "        [1., 1., 1., 1.]])\n",
      "\n",
      "Type <class 'torch.Tensor'>\n",
      "Shape: torch.Size([3, 4])\n",
      "값:\n",
      "tensor([[0., 0., 0., 0.],\n",
      "        [0., 0., 0., 0.],\n",
      "        [0., 0., 0., 0.]])\n",
      "\n"
     ]
    }
   ],
   "source": [
    "print_val( torch.ones(3,4))\n",
    "print_val( torch.zeros(3,4))"
   ]
  },
  {
   "cell_type": "code",
   "execution_count": 7,
   "id": "a155c0ce",
   "metadata": {},
   "outputs": [
    {
     "name": "stdout",
     "output_type": "stream",
     "text": [
      "Type <class 'torch.Tensor'>\n",
      "Shape: torch.Size([2, 4])\n",
      "값:\n",
      "tensor([[0.0000e+00, 0.0000e+00, 0.0000e+00, 0.0000e+00],\n",
      "        [1.4013e-45, 4.7785e-18, 0.0000e+00, 0.0000e+00]])\n",
      "\n"
     ]
    }
   ],
   "source": [
    "print_val( torch.Tensor(2,4))"
   ]
  },
  {
   "cell_type": "code",
   "execution_count": 8,
   "id": "797bd061",
   "metadata": {},
   "outputs": [
    {
     "name": "stdout",
     "output_type": "stream",
     "text": [
      "Type <class 'torch.Tensor'>\n",
      "Shape: torch.Size([2])\n",
      "값:\n",
      "tensor([2., 3.])\n",
      "\n",
      "Type <class 'torch.Tensor'>\n",
      "Shape: torch.Size([2, 2])\n",
      "값:\n",
      "tensor([[2., 3.],\n",
      "        [3., 4.]])\n",
      "\n"
     ]
    }
   ],
   "source": [
    "print_val( torch.Tensor([2,3]))\n",
    "print_val( torch.Tensor([[2,3], [3,4]]))"
   ]
  },
  {
   "cell_type": "code",
   "execution_count": 9,
   "id": "1426889e",
   "metadata": {},
   "outputs": [
    {
     "name": "stdout",
     "output_type": "stream",
     "text": [
      "Type <class 'torch.Tensor'>\n",
      "Shape: torch.Size([2, 3])\n",
      "값:\n",
      "tensor([[-1.2587e+03,  4.5846e-41, -1.2588e+03],\n",
      "        [ 4.5846e-41, -1.2586e+03,  4.5846e-41]])\n",
      "\n",
      "Type <class 'torch.Tensor'>\n",
      "Shape: torch.Size([2, 3])\n",
      "값:\n",
      "tensor([[-1258,     0, -1258],\n",
      "        [    0, -1258,     0]], dtype=torch.int32)\n",
      "\n"
     ]
    }
   ],
   "source": [
    "x= torch.FloatTensor(2,3)\n",
    "print_val(x)\n",
    "\n",
    "x= x.type_as(torch.IntTensor())\n",
    "print_val(x)"
   ]
  },
  {
   "cell_type": "code",
   "execution_count": 10,
   "id": "0814daf5",
   "metadata": {},
   "outputs": [
    {
     "data": {
      "text/plain": [
       "torch.Size([3, 4, 5])"
      ]
     },
     "execution_count": 10,
     "metadata": {},
     "output_type": "execute_result"
    }
   ],
   "source": [
    "torch.FloatTensor(3,4,5).size()\n"
   ]
  },
  {
   "cell_type": "code",
   "execution_count": 11,
   "id": "325c62f2",
   "metadata": {},
   "outputs": [
    {
     "name": "stdout",
     "output_type": "stream",
     "text": [
      "Type <type 'numpy.ndarray'>\n",
      "Shape: (2, 3)\n",
      "값:\n",
      "[[              0               0               0]\n",
      " [              0               0 140518445023232]]\n",
      "\n",
      "Type <class 'torch.Tensor'>\n",
      "Shape: torch.Size([2, 3])\n",
      "값:\n",
      "tensor([[              0,               0,               0],\n",
      "        [              0,               0, 140518445023232]])\n",
      "\n"
     ]
    }
   ],
   "source": [
    "np_x=np.ndarray((2,3), dtype=int)\n",
    "print_val(np_x)\n",
    "\n",
    "x= torch.from_numpy(np_x)\n",
    "print_val(x)"
   ]
  },
  {
   "cell_type": "code",
   "execution_count": null,
   "id": "143b6315",
   "metadata": {},
   "outputs": [],
   "source": []
  },
  {
   "cell_type": "code",
   "execution_count": null,
   "id": "1f7552d9",
   "metadata": {},
   "outputs": [],
   "source": []
  }
 ],
 "metadata": {
  "kernelspec": {
   "display_name": "conda_pytorch_p27",
   "language": "python",
   "name": "conda_pytorch_p27"
  },
  "language_info": {
   "codemirror_mode": {
    "name": "ipython",
    "version": 2
   },
   "file_extension": ".py",
   "mimetype": "text/x-python",
   "name": "python",
   "nbconvert_exporter": "python",
   "pygments_lexer": "ipython2",
   "version": "2.7.16"
  }
 },
 "nbformat": 4,
 "nbformat_minor": 5
}
