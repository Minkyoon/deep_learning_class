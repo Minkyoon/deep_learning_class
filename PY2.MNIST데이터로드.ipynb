{
 "cells": [
  {
   "cell_type": "code",
   "execution_count": 6,
   "id": "bac8cf52",
   "metadata": {},
   "outputs": [],
   "source": [
    "import torch\n",
    "import numpy as np\n",
    "def print_val(x):\n",
    "    print\"Type\" , type(x)\n",
    "    print \"Shape:\", x.shape\n",
    "    print \"값:\\n\", x\n",
    "    print(\"\")\n",
    "    \n",
    "import torchvision.datasets as dset\n",
    "import torchvision.transforms as transforms\n",
    "from torch.utils.data import DataLoader\n",
    "from torch.autograd import Variable\n",
    "import matplotlib.pyplot as plt\n",
    "%matplotlib inline"
   ]
  },
  {
   "cell_type": "code",
   "execution_count": 12,
   "id": "1b0995d2",
   "metadata": {},
   "outputs": [
    {
     "name": "stdout",
     "output_type": "stream",
     "text": [
      "torch.Size([1, 28, 28]) 5\n",
      "torch.Size([1, 28, 28]) 0\n",
      "60000\n",
      "mnist_train 길이: 60000\n",
      "5\n",
      "torch.Size([1, 28, 28])\n"
     ]
    },
    {
     "data": {
      "image/png": "[encoded data removed]",
      "text/plain": [
       "<Figure size 432x288 with 1 Axes>"
      ]
     },
     "metadata": {
      "needs_background": "light"
     },
     "output_type": "display_data"
    }
   ],
   "source": [
    "mnist_train=dset.MNIST(\"\", train=True,transform=transforms.ToTensor(),\n",
    "                      target_transform=None, download=True)\n",
    "\n",
    "image, label = mnist_train.__getitem__(0)\n",
    "print image.size(), label\n",
    "\n",
    "image, label= mnist_train[1]\n",
    "print image.size(), label\n",
    "\n",
    "print mnist_train.__len__()\n",
    "print \"mnist_train 길이:\", len(mnist_train)\n",
    "\n",
    "print mnist_train[0][1]\n",
    "print mnist_train[0][0].size()\n",
    "\n",
    "for i in range(3):\n",
    "    img= mnist_train[i][0].numpy()\n",
    "    plt.title(\"label: %d\" %mnist_train[i][1])\n",
    "    plt.imshow(img[0], cmap='gray')\n",
    "    plt.show\n"
   ]
  },
  {
   "cell_type": "code",
   "execution_count": 18,
   "id": "00770960",
   "metadata": {},
   "outputs": [
    {
     "name": "stdout",
     "output_type": "stream",
     "text": [
      "\n"
     ]
    }
   ],
   "source": [
    "mnist_train=dset.MNIST(\"\", train=True, transform=transforms.ToTensor(),\n",
    "                      target_transform=None, download=True)\n",
    "mnist_test=dset.MNIST(\"\", train=False, transform=transforms.ToTensor(),\n",
    "                      target_transform=None, download=True)"
   ]
  },
  {
   "cell_type": "code",
   "execution_count": 19,
   "id": "57c5c569",
   "metadata": {},
   "outputs": [
    {
     "name": "stdout",
     "output_type": "stream",
     "text": [
      "mnist_train 길이: 60000\n",
      "mnist_test 길이: 10000\n",
      "image data 형태 torch.Size([1, 28, 28])\n",
      "label: 5\n"
     ]
    },
    {
     "data": {
      "image/png": "[encoded data removed]",
      "text/plain": [
       "<Figure size 432x288 with 1 Axes>"
      ]
     },
     "metadata": {
      "needs_background": "light"
     },
     "output_type": "display_data"
    }
   ],
   "source": [
    "print \"mnist_train 길이:\", len(mnist_train)\n",
    "print \"mnist_test 길이:\", len(mnist_test)\n",
    "\n",
    "image, label = mnist_train.__getitem__(0)\n",
    "print \"image data 형태\", image.size()\n",
    "print \"label:\" , label\n",
    "\n",
    "img = image.numpy()\n",
    "plt.title(\"label :%d\" %label)\n",
    "plt.imshow(img[0], cmap='gray')\n",
    "plt.show()"
   ]
  },
  {
   "cell_type": "code",
   "execution_count": 20,
   "id": "03bdbab9",
   "metadata": {},
   "outputs": [],
   "source": [
    "#데이터 로드함수\n",
    "batch_size= 16\n",
    "train_loader = torch.utils.data.DataLoader(list(mnist_train)[:batch_size*100], batch_size=batch_size,\n",
    "                                          shuffle=True, num_workers=2,\n",
    "                                          drop_last=True)\n",
    "test_loader = torch.utils.data.DataLoader((mnist_test), batch_size=batch_size,\n",
    "                                          shuffle=False, num_workers=2,\n",
    "                                          drop_last=True)"
   ]
  },
  {
   "cell_type": "code",
   "execution_count": 2,
   "id": "c240f423",
   "metadata": {},
   "outputs": [
    {
     "ename": "SyntaxError",
     "evalue": "invalid syntax (<ipython-input-2-2b777fa3fa4a>, line 22)",
     "output_type": "error",
     "traceback": [
      "\u001b[0;36m  File \u001b[0;32m\"<ipython-input-2-2b777fa3fa4a>\"\u001b[0;36m, line \u001b[0;32m22\u001b[0m\n\u001b[0;31m    echo \"# artificail_intell\" >> README.md\u001b[0m\n\u001b[0m                             ^\u001b[0m\n\u001b[0;31mSyntaxError\u001b[0m\u001b[0;31m:\u001b[0m invalid syntax\n"
     ]
    }
   ],
   "source": [
    "n=3\n",
    "for i, [imgs, labels] in enumerate(test_loader):\n",
    "    if i>5:\n",
    "        break\n",
    "        \n",
    "    print\"[%d]\" %i\n",
    "    print\"한 번에 로드되는 데이터 크기:\", len(imgs)\n",
    "    \n",
    "    x=Variable(imgs)\n",
    "    x=x.reshape((x.shape[0], x.shape[2], x.shape[3]))\n",
    "    y_=Variable(labels)\n",
    "    \n",
    "    for j in range(n):\n",
    "        img= imgs[j].numpy()\n",
    "        img= img.reshape((img.shape[1]), img.shape[2])\n",
    "        \n",
    "        plt.subplot(1, n, j+1)\n",
    "        plt.imshow(img, cmap='gray')\n",
    "        plt.title(\"label: %d\" %labels[j])\n",
    "    plt.show()\n"
   ]
  },
  {
   "cell_type": "code",
   "execution_count": null,
   "id": "5ea1246d",
   "metadata": {},
   "outputs": [],
   "source": []
  }
 ],
 "metadata": {
  "kernelspec": {
   "display_name": "conda_pytorch_p27",
   "language": "python",
   "name": "conda_pytorch_p27"
  },
  "language_info": {
   "codemirror_mode": {
    "name": "ipython",
    "version": 2
   },
   "file_extension": ".py",
   "mimetype": "text/x-python",
   "name": "python",
   "nbconvert_exporter": "python",
   "pygments_lexer": "ipython2",
   "version": "2.7.16"
  }
 },
 "nbformat": 4,
 "nbformat_minor": 5
}
